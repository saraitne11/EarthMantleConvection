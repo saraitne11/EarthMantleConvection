{
 "cells": [
  {
   "cell_type": "markdown",
   "id": "7bda913d",
   "metadata": {},
   "source": [
    "## Evaluation\n",
    "- spherical001.nc 데이터로 학습된 모델\n",
    "- spherical005.nc 데이터 대상으로 평가"
   ]
  },
  {
   "cell_type": "code",
   "execution_count": 1,
   "id": "9bd9c9bf",
   "metadata": {},
   "outputs": [],
   "source": [
    "import torch\n",
    "import torch.nn as nn\n",
    "import torch.optim as optim\n",
    "import torch.utils.data as data\n",
    "\n",
    "import time\n",
    "import os\n",
    "import numpy as np\n",
    "import matplotlib.pyplot as plt\n",
    "\n",
    "from dataset import EarthMantleDataset\n",
    "from dataset import read_cdf\n",
    "\n",
    "from resnet import ResNet\n",
    "from resnet import Bottleneck\n",
    "from resnet import BasicBlock"
   ]
  },
  {
   "cell_type": "code",
   "execution_count": 2,
   "id": "e08dbe72",
   "metadata": {},
   "outputs": [],
   "source": [
    "model_dir = 'D:/EarthMantleConvection/models/version_01/'\n",
    "target_dir = 'D:/EarthMantleConvection/results/version_01/'"
   ]
  },
  {
   "cell_type": "code",
   "execution_count": 3,
   "id": "82ca7ed4",
   "metadata": {},
   "outputs": [],
   "source": [
    "file_path = 'D:/EarthMantleConvection/mantle01/spherical005.nc'\n",
    "x_volume, y_volume, volume_size = read_cdf(file_path, 5, 5, 5, './scalers')\n",
    "eval_set = EarthMantleDataset(x_volume, y_volume, volume_size, file_path)\n",
    "eval_loader = data.DataLoader(dataset=eval_set, batch_size=1024, num_workers=2, shuffle=False)"
   ]
  },
  {
   "cell_type": "code",
   "execution_count": 4,
   "id": "b87f10d6",
   "metadata": {
    "scrolled": true
   },
   "outputs": [
    {
     "name": "stdout",
     "output_type": "stream",
     "text": [
      "<dataset.EarthMantleDataset object at 0x000001CEB4D7C700>\n",
      "13024800\n",
      "(201, 180, 360)\n",
      "torch.Size([7, 205, 184, 364])\n",
      "torch.Size([1, 205, 184, 364])\n",
      "7\n",
      "5\n",
      "1024\n"
     ]
    }
   ],
   "source": [
    "print(eval_set)\n",
    "print(len(eval_set))\n",
    "print(eval_set.get_volume_size())\n",
    "print(eval_set.get_x_volume_size())\n",
    "print(eval_set.get_y_volume_size())\n",
    "print(eval_set.in_channels)\n",
    "print(eval_set.depth)\n",
    "print(eval_loader.batch_size)"
   ]
  },
  {
   "cell_type": "code",
   "execution_count": 5,
   "id": "e311de58",
   "metadata": {
    "scrolled": false
   },
   "outputs": [
    {
     "name": "stdout",
     "output_type": "stream",
     "text": [
      "Device: cuda\n"
     ]
    },
    {
     "data": {
      "text/plain": [
       "ResNet(\n",
       "  (conv1): Conv3d(7, 16, kernel_size=(7, 7, 7), stride=(2, 2, 2), padding=(3, 3, 3), bias=False)\n",
       "  (bn1): BatchNorm3d(16, eps=1e-05, momentum=0.1, affine=True, track_running_stats=True)\n",
       "  (relu): ReLU(inplace=True)\n",
       "  (maxpool): MaxPool3d(kernel_size=3, stride=2, padding=1, dilation=1, ceil_mode=False)\n",
       "  (block1): Sequential(\n",
       "    (0): Bottleneck(\n",
       "      (conv1): Conv3d(16, 16, kernel_size=(1, 1, 1), stride=(1, 1, 1), bias=False)\n",
       "      (bn1): BatchNorm3d(16, eps=1e-05, momentum=0.1, affine=True, track_running_stats=True)\n",
       "      (conv2): Conv3d(16, 16, kernel_size=(3, 3, 3), stride=(1, 1, 1), padding=(1, 1, 1), bias=False)\n",
       "      (bn2): BatchNorm3d(16, eps=1e-05, momentum=0.1, affine=True, track_running_stats=True)\n",
       "      (conv3): Conv3d(16, 64, kernel_size=(1, 1, 1), stride=(1, 1, 1), bias=False)\n",
       "      (bn3): BatchNorm3d(64, eps=1e-05, momentum=0.1, affine=True, track_running_stats=True)\n",
       "      (relu): ReLU(inplace=True)\n",
       "      (downsample): Sequential(\n",
       "        (0): Conv3d(16, 64, kernel_size=(1, 1, 1), stride=(1, 1, 1), bias=False)\n",
       "        (1): BatchNorm3d(64, eps=1e-05, momentum=0.1, affine=True, track_running_stats=True)\n",
       "      )\n",
       "    )\n",
       "  )\n",
       "  (block2): Sequential(\n",
       "    (0): Bottleneck(\n",
       "      (conv1): Conv3d(64, 32, kernel_size=(1, 1, 1), stride=(1, 1, 1), bias=False)\n",
       "      (bn1): BatchNorm3d(32, eps=1e-05, momentum=0.1, affine=True, track_running_stats=True)\n",
       "      (conv2): Conv3d(32, 32, kernel_size=(3, 3, 3), stride=(2, 2, 2), padding=(1, 1, 1), bias=False)\n",
       "      (bn2): BatchNorm3d(32, eps=1e-05, momentum=0.1, affine=True, track_running_stats=True)\n",
       "      (conv3): Conv3d(32, 128, kernel_size=(1, 1, 1), stride=(1, 1, 1), bias=False)\n",
       "      (bn3): BatchNorm3d(128, eps=1e-05, momentum=0.1, affine=True, track_running_stats=True)\n",
       "      (relu): ReLU(inplace=True)\n",
       "      (downsample): Sequential(\n",
       "        (0): Conv3d(64, 128, kernel_size=(1, 1, 1), stride=(2, 2, 2), bias=False)\n",
       "        (1): BatchNorm3d(128, eps=1e-05, momentum=0.1, affine=True, track_running_stats=True)\n",
       "      )\n",
       "    )\n",
       "  )\n",
       "  (block3): Sequential(\n",
       "    (0): Bottleneck(\n",
       "      (conv1): Conv3d(128, 64, kernel_size=(1, 1, 1), stride=(1, 1, 1), bias=False)\n",
       "      (bn1): BatchNorm3d(64, eps=1e-05, momentum=0.1, affine=True, track_running_stats=True)\n",
       "      (conv2): Conv3d(64, 64, kernel_size=(3, 3, 3), stride=(2, 2, 2), padding=(1, 1, 1), bias=False)\n",
       "      (bn2): BatchNorm3d(64, eps=1e-05, momentum=0.1, affine=True, track_running_stats=True)\n",
       "      (conv3): Conv3d(64, 256, kernel_size=(1, 1, 1), stride=(1, 1, 1), bias=False)\n",
       "      (bn3): BatchNorm3d(256, eps=1e-05, momentum=0.1, affine=True, track_running_stats=True)\n",
       "      (relu): ReLU(inplace=True)\n",
       "      (downsample): Sequential(\n",
       "        (0): Conv3d(128, 256, kernel_size=(1, 1, 1), stride=(2, 2, 2), bias=False)\n",
       "        (1): BatchNorm3d(256, eps=1e-05, momentum=0.1, affine=True, track_running_stats=True)\n",
       "      )\n",
       "    )\n",
       "  )\n",
       "  (block4): Sequential(\n",
       "    (0): Bottleneck(\n",
       "      (conv1): Conv3d(256, 128, kernel_size=(1, 1, 1), stride=(1, 1, 1), bias=False)\n",
       "      (bn1): BatchNorm3d(128, eps=1e-05, momentum=0.1, affine=True, track_running_stats=True)\n",
       "      (conv2): Conv3d(128, 128, kernel_size=(3, 3, 3), stride=(2, 2, 2), padding=(1, 1, 1), bias=False)\n",
       "      (bn2): BatchNorm3d(128, eps=1e-05, momentum=0.1, affine=True, track_running_stats=True)\n",
       "      (conv3): Conv3d(128, 512, kernel_size=(1, 1, 1), stride=(1, 1, 1), bias=False)\n",
       "      (bn3): BatchNorm3d(512, eps=1e-05, momentum=0.1, affine=True, track_running_stats=True)\n",
       "      (relu): ReLU(inplace=True)\n",
       "      (downsample): Sequential(\n",
       "        (0): Conv3d(256, 512, kernel_size=(1, 1, 1), stride=(2, 2, 2), bias=False)\n",
       "        (1): BatchNorm3d(512, eps=1e-05, momentum=0.1, affine=True, track_running_stats=True)\n",
       "      )\n",
       "    )\n",
       "  )\n",
       "  (avgpool): AdaptiveAvgPool3d(output_size=(1, 1, 1))\n",
       "  (fc): Linear(in_features=512, out_features=5, bias=True)\n",
       ")"
      ]
     },
     "execution_count": 5,
     "metadata": {},
     "output_type": "execute_result"
    }
   ],
   "source": [
    "device = torch.device('cuda' if torch.cuda.is_available() else 'cpu')\n",
    "print(f'Device: {device}')\n",
    "model = ResNet(Bottleneck, [1, 1, 1, 1], [16, 32, 64, 128], eval_set.in_channels, out_dim=eval_set.depth)\n",
    "model.to(device)\n",
    "model.eval()"
   ]
  },
  {
   "cell_type": "code",
   "execution_count": 6,
   "id": "b93956ff",
   "metadata": {},
   "outputs": [],
   "source": [
    "def eval_model(model, weight_file, dataset, loader):\n",
    "    model.load_state_dict(torch.load(weight_file))\n",
    "    model.eval()\n",
    "    \n",
    "    do = dataset.depth // 2\n",
    "    ho = dataset.height // 2\n",
    "    wo = dataset.width // 2\n",
    "    \n",
    "    dl = do\n",
    "    du = do + 1\n",
    "\n",
    "    s = time.time()\n",
    "\n",
    "    res = np.zeros((dataset.get_y_volume_size()[1:]))\n",
    "    cnt = np.zeros((dataset.get_y_volume_size()[1:]))\n",
    "    n_data = len(dataset)\n",
    "    j = 0\n",
    "    with torch.no_grad():\n",
    "        for x, y, _idx in loader:\n",
    "            ss = time.time()\n",
    "            x = x.to(device)\n",
    "            y = y.to(device)\n",
    "            idx = torch.stack(_idx, dim=1)\n",
    "            # print(x.shape)\n",
    "            # print(y.shape)\n",
    "            # print(idx.shape)\n",
    "            output = np.array(model(x).cpu())\n",
    "            # print(output.shape)\n",
    "            for i in range(idx.shape[0]):\n",
    "                ix, iy, iz = idx[i, :]\n",
    "                res[ix-dl:ix+du, iy, iz] += output[i, :]\n",
    "                cnt[ix-dl:ix+du, iy, iz] += 1\n",
    "            print(f'\\rEvaluation: {j}/{n_data}, Step Time: {time.time()-ss:.2f}', end='')\n",
    "            j += loader.batch_size\n",
    "            \n",
    "        print()\n",
    "    print(f'Weight File: {weight_file}, Elapsed Time: {time.time() - s:.2f}')\n",
    "    \n",
    "    res = res[do:-do, ho:-ho, wo:-wo] / cnt[do:-do, ho:-ho, wo:-wo]\n",
    "    return res"
   ]
  },
  {
   "cell_type": "code",
   "execution_count": 7,
   "id": "9ac2e39f",
   "metadata": {},
   "outputs": [
    {
     "name": "stdout",
     "output_type": "stream",
     "text": [
      "Evaluation: 13024256/13024800, Step Time: 0.02\n",
      "Weight File: D:/EarthMantleConvection/models/version_01/epoch_00.pt, Elapsed Time: 591.58\n",
      "D:/EarthMantleConvection/results/version_01/Res_spherical005_version_01_epoch_00.npy\n",
      "Evaluation: 13024256/13024800, Step Time: 0.04\n",
      "Weight File: D:/EarthMantleConvection/models/version_01/epoch_01.pt, Elapsed Time: 569.81\n",
      "D:/EarthMantleConvection/results/version_01/Res_spherical005_version_01_epoch_01.npy\n",
      "Evaluation: 13024256/13024800, Step Time: 0.03\n",
      "Weight File: D:/EarthMantleConvection/models/version_01/epoch_02.pt, Elapsed Time: 568.49\n",
      "D:/EarthMantleConvection/results/version_01/Res_spherical005_version_01_epoch_02.npy\n",
      "Evaluation: 13024256/13024800, Step Time: 0.02\n",
      "Weight File: D:/EarthMantleConvection/models/version_01/epoch_03.pt, Elapsed Time: 571.39\n",
      "D:/EarthMantleConvection/results/version_01/Res_spherical005_version_01_epoch_03.npy\n",
      "Evaluation: 13024256/13024800, Step Time: 0.02\n",
      "Weight File: D:/EarthMantleConvection/models/version_01/epoch_04.pt, Elapsed Time: 527.21\n",
      "D:/EarthMantleConvection/results/version_01/Res_spherical005_version_01_epoch_04.npy\n",
      "Evaluation: 13024256/13024800, Step Time: 0.02\n",
      "Weight File: D:/EarthMantleConvection/models/version_01/epoch_05.pt, Elapsed Time: 519.29\n",
      "D:/EarthMantleConvection/results/version_01/Res_spherical005_version_01_epoch_05.npy\n",
      "Evaluation: 13024256/13024800, Step Time: 0.03\n",
      "Weight File: D:/EarthMantleConvection/models/version_01/epoch_06.pt, Elapsed Time: 523.54\n",
      "D:/EarthMantleConvection/results/version_01/Res_spherical005_version_01_epoch_06.npy\n",
      "Evaluation: 13024256/13024800, Step Time: 0.02\n",
      "Weight File: D:/EarthMantleConvection/models/version_01/epoch_07.pt, Elapsed Time: 523.35\n",
      "D:/EarthMantleConvection/results/version_01/Res_spherical005_version_01_epoch_07.npy\n",
      "Evaluation: 13024256/13024800, Step Time: 0.02\n",
      "Weight File: D:/EarthMantleConvection/models/version_01/epoch_08.pt, Elapsed Time: 534.12\n",
      "D:/EarthMantleConvection/results/version_01/Res_spherical005_version_01_epoch_08.npy\n",
      "Evaluation: 13024256/13024800, Step Time: 0.03\n",
      "Weight File: D:/EarthMantleConvection/models/version_01/epoch_09.pt, Elapsed Time: 571.36\n",
      "D:/EarthMantleConvection/results/version_01/Res_spherical005_version_01_epoch_09.npy\n",
      "Evaluation: 13024256/13024800, Step Time: 0.03\n",
      "Weight File: D:/EarthMantleConvection/models/version_01/epoch_10.pt, Elapsed Time: 626.24\n",
      "D:/EarthMantleConvection/results/version_01/Res_spherical005_version_01_epoch_10.npy\n",
      "Evaluation: 13024256/13024800, Step Time: 0.03\n",
      "Weight File: D:/EarthMantleConvection/models/version_01/epoch_11.pt, Elapsed Time: 630.88\n",
      "D:/EarthMantleConvection/results/version_01/Res_spherical005_version_01_epoch_11.npy\n",
      "Evaluation: 13024256/13024800, Step Time: 0.03\n",
      "Weight File: D:/EarthMantleConvection/models/version_01/epoch_12.pt, Elapsed Time: 626.02\n",
      "D:/EarthMantleConvection/results/version_01/Res_spherical005_version_01_epoch_12.npy\n",
      "Evaluation: 13024256/13024800, Step Time: 0.03\n",
      "Weight File: D:/EarthMantleConvection/models/version_01/epoch_13.pt, Elapsed Time: 628.03\n",
      "D:/EarthMantleConvection/results/version_01/Res_spherical005_version_01_epoch_13.npy\n",
      "Evaluation: 13024256/13024800, Step Time: 0.03\n",
      "Weight File: D:/EarthMantleConvection/models/version_01/epoch_14.pt, Elapsed Time: 626.99\n",
      "D:/EarthMantleConvection/results/version_01/Res_spherical005_version_01_epoch_14.npy\n",
      "Evaluation: 13024256/13024800, Step Time: 0.03\n",
      "Weight File: D:/EarthMantleConvection/models/version_01/epoch_15.pt, Elapsed Time: 629.89\n",
      "D:/EarthMantleConvection/results/version_01/Res_spherical005_version_01_epoch_15.npy\n"
     ]
    }
   ],
   "source": [
    "weight_files = os.listdir(model_dir)\n",
    "weight_files.sort()\n",
    "\n",
    "os.makedirs(target_dir, exist_ok=True)\n",
    "\n",
    "data_file = os.path.basename(eval_set.netcdf_file).split('.')[0]\n",
    "for w in weight_files:\n",
    "    weight_path = os.path.join(model_dir, w)\n",
    "    sp = weight_path.split('/')\n",
    "    version = sp[-2]\n",
    "    weight = sp[-1].split('.')[0]\n",
    "    \n",
    "    res = eval_model(model, weight_path, eval_set, eval_loader)\n",
    "    \n",
    "    res_path = os.path.join(target_dir, f'Res_{data_file}_{version}_{weight}.npy')\n",
    "    np.save(res_path, res)\n",
    "    print(res_path)"
   ]
  }
 ],
 "metadata": {
  "kernelspec": {
   "display_name": "netcdf",
   "language": "python",
   "name": "netcdf"
  },
  "language_info": {
   "codemirror_mode": {
    "name": "ipython",
    "version": 3
   },
   "file_extension": ".py",
   "mimetype": "text/x-python",
   "name": "python",
   "nbconvert_exporter": "python",
   "pygments_lexer": "ipython3",
   "version": "3.8.10"
  }
 },
 "nbformat": 4,
 "nbformat_minor": 5
}
