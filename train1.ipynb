{
 "cells": [
  {
   "cell_type": "code",
   "execution_count": 1,
   "id": "32e6cede",
   "metadata": {},
   "outputs": [],
   "source": [
    "import torch\n",
    "import torch.nn as nn\n",
    "import torch.optim as optim\n",
    "import torch.utils.data as data\n",
    "\n",
    "import time\n",
    "import matplotlib.pyplot as plt\n",
    "import os\n",
    "\n",
    "from dataset import EarthMantleDataset\n",
    "from dataset import read_cdf\n",
    "\n",
    "from resnet import ResNet\n",
    "from resnet import Bottleneck\n",
    "from resnet import BasicBlock"
   ]
  },
  {
   "cell_type": "code",
   "execution_count": 2,
   "id": "0751e478",
   "metadata": {},
   "outputs": [],
   "source": [
    "LEARNING_RATE = 0.0001\n",
    "EPOCH_NUM = 8\n",
    "MODEL_DIR = 'D:/EarthMantleConvection/models/version_01'"
   ]
  },
  {
   "cell_type": "code",
   "execution_count": 3,
   "id": "8a3b7d3c",
   "metadata": {},
   "outputs": [],
   "source": [
    "file_path = 'D:/EarthMantleConvection/mantle01/spherical001.nc'\n",
    "x_volume, y_volume, volume_size = read_cdf(file_path, 5, 5, 5, './scalers')\n",
    "train_set = EarthMantleDataset(x_volume, y_volume, volume_size)\n",
    "train_loader = data.DataLoader(dataset=train_set, batch_size=128, num_workers=2, shuffle=True)"
   ]
  },
  {
   "cell_type": "code",
   "execution_count": 4,
   "id": "efe89909",
   "metadata": {
    "scrolled": true
   },
   "outputs": [
    {
     "name": "stdout",
     "output_type": "stream",
     "text": [
      "<dataset.EarthMantleDataset object at 0x000001289914BCA0>\n",
      "13024800\n",
      "7\n",
      "5\n",
      "128\n"
     ]
    }
   ],
   "source": [
    "print(train_set)\n",
    "print(len(train_set))\n",
    "print(train_set.in_channels)\n",
    "print(train_set.depth)\n",
    "print(train_loader.batch_size)"
   ]
  },
  {
   "cell_type": "code",
   "execution_count": 5,
   "id": "38469c9c",
   "metadata": {
    "scrolled": false
   },
   "outputs": [
    {
     "name": "stdout",
     "output_type": "stream",
     "text": [
      "Device: cuda\n"
     ]
    },
    {
     "data": {
      "text/plain": [
       "ResNet(\n",
       "  (conv1): Conv3d(7, 64, kernel_size=(7, 7, 7), stride=(2, 2, 2), padding=(3, 3, 3), bias=False)\n",
       "  (bn1): BatchNorm3d(64, eps=1e-05, momentum=0.1, affine=True, track_running_stats=True)\n",
       "  (relu): ReLU(inplace=True)\n",
       "  (maxpool): MaxPool3d(kernel_size=3, stride=2, padding=1, dilation=1, ceil_mode=False)\n",
       "  (block1): Sequential(\n",
       "    (0): Bottleneck(\n",
       "      (conv1): Conv3d(64, 64, kernel_size=(1, 1, 1), stride=(1, 1, 1), bias=False)\n",
       "      (bn1): BatchNorm3d(64, eps=1e-05, momentum=0.1, affine=True, track_running_stats=True)\n",
       "      (conv2): Conv3d(64, 64, kernel_size=(3, 3, 3), stride=(1, 1, 1), padding=(1, 1, 1), bias=False)\n",
       "      (bn2): BatchNorm3d(64, eps=1e-05, momentum=0.1, affine=True, track_running_stats=True)\n",
       "      (conv3): Conv3d(64, 256, kernel_size=(1, 1, 1), stride=(1, 1, 1), bias=False)\n",
       "      (bn3): BatchNorm3d(256, eps=1e-05, momentum=0.1, affine=True, track_running_stats=True)\n",
       "      (relu): ReLU(inplace=True)\n",
       "      (downsample): Sequential(\n",
       "        (0): Conv3d(64, 256, kernel_size=(1, 1, 1), stride=(1, 1, 1), bias=False)\n",
       "        (1): BatchNorm3d(256, eps=1e-05, momentum=0.1, affine=True, track_running_stats=True)\n",
       "      )\n",
       "    )\n",
       "    (1): Bottleneck(\n",
       "      (conv1): Conv3d(256, 64, kernel_size=(1, 1, 1), stride=(1, 1, 1), bias=False)\n",
       "      (bn1): BatchNorm3d(64, eps=1e-05, momentum=0.1, affine=True, track_running_stats=True)\n",
       "      (conv2): Conv3d(64, 64, kernel_size=(3, 3, 3), stride=(1, 1, 1), padding=(1, 1, 1), bias=False)\n",
       "      (bn2): BatchNorm3d(64, eps=1e-05, momentum=0.1, affine=True, track_running_stats=True)\n",
       "      (conv3): Conv3d(64, 256, kernel_size=(1, 1, 1), stride=(1, 1, 1), bias=False)\n",
       "      (bn3): BatchNorm3d(256, eps=1e-05, momentum=0.1, affine=True, track_running_stats=True)\n",
       "      (relu): ReLU(inplace=True)\n",
       "    )\n",
       "  )\n",
       "  (block2): Sequential(\n",
       "    (0): Bottleneck(\n",
       "      (conv1): Conv3d(256, 128, kernel_size=(1, 1, 1), stride=(1, 1, 1), bias=False)\n",
       "      (bn1): BatchNorm3d(128, eps=1e-05, momentum=0.1, affine=True, track_running_stats=True)\n",
       "      (conv2): Conv3d(128, 128, kernel_size=(3, 3, 3), stride=(2, 2, 2), padding=(1, 1, 1), bias=False)\n",
       "      (bn2): BatchNorm3d(128, eps=1e-05, momentum=0.1, affine=True, track_running_stats=True)\n",
       "      (conv3): Conv3d(128, 512, kernel_size=(1, 1, 1), stride=(1, 1, 1), bias=False)\n",
       "      (bn3): BatchNorm3d(512, eps=1e-05, momentum=0.1, affine=True, track_running_stats=True)\n",
       "      (relu): ReLU(inplace=True)\n",
       "      (downsample): Sequential(\n",
       "        (0): Conv3d(256, 512, kernel_size=(1, 1, 1), stride=(2, 2, 2), bias=False)\n",
       "        (1): BatchNorm3d(512, eps=1e-05, momentum=0.1, affine=True, track_running_stats=True)\n",
       "      )\n",
       "    )\n",
       "    (1): Bottleneck(\n",
       "      (conv1): Conv3d(512, 128, kernel_size=(1, 1, 1), stride=(1, 1, 1), bias=False)\n",
       "      (bn1): BatchNorm3d(128, eps=1e-05, momentum=0.1, affine=True, track_running_stats=True)\n",
       "      (conv2): Conv3d(128, 128, kernel_size=(3, 3, 3), stride=(1, 1, 1), padding=(1, 1, 1), bias=False)\n",
       "      (bn2): BatchNorm3d(128, eps=1e-05, momentum=0.1, affine=True, track_running_stats=True)\n",
       "      (conv3): Conv3d(128, 512, kernel_size=(1, 1, 1), stride=(1, 1, 1), bias=False)\n",
       "      (bn3): BatchNorm3d(512, eps=1e-05, momentum=0.1, affine=True, track_running_stats=True)\n",
       "      (relu): ReLU(inplace=True)\n",
       "    )\n",
       "  )\n",
       "  (block3): Sequential(\n",
       "    (0): Bottleneck(\n",
       "      (conv1): Conv3d(512, 256, kernel_size=(1, 1, 1), stride=(1, 1, 1), bias=False)\n",
       "      (bn1): BatchNorm3d(256, eps=1e-05, momentum=0.1, affine=True, track_running_stats=True)\n",
       "      (conv2): Conv3d(256, 256, kernel_size=(3, 3, 3), stride=(2, 2, 2), padding=(1, 1, 1), bias=False)\n",
       "      (bn2): BatchNorm3d(256, eps=1e-05, momentum=0.1, affine=True, track_running_stats=True)\n",
       "      (conv3): Conv3d(256, 1024, kernel_size=(1, 1, 1), stride=(1, 1, 1), bias=False)\n",
       "      (bn3): BatchNorm3d(1024, eps=1e-05, momentum=0.1, affine=True, track_running_stats=True)\n",
       "      (relu): ReLU(inplace=True)\n",
       "      (downsample): Sequential(\n",
       "        (0): Conv3d(512, 1024, kernel_size=(1, 1, 1), stride=(2, 2, 2), bias=False)\n",
       "        (1): BatchNorm3d(1024, eps=1e-05, momentum=0.1, affine=True, track_running_stats=True)\n",
       "      )\n",
       "    )\n",
       "    (1): Bottleneck(\n",
       "      (conv1): Conv3d(1024, 256, kernel_size=(1, 1, 1), stride=(1, 1, 1), bias=False)\n",
       "      (bn1): BatchNorm3d(256, eps=1e-05, momentum=0.1, affine=True, track_running_stats=True)\n",
       "      (conv2): Conv3d(256, 256, kernel_size=(3, 3, 3), stride=(1, 1, 1), padding=(1, 1, 1), bias=False)\n",
       "      (bn2): BatchNorm3d(256, eps=1e-05, momentum=0.1, affine=True, track_running_stats=True)\n",
       "      (conv3): Conv3d(256, 1024, kernel_size=(1, 1, 1), stride=(1, 1, 1), bias=False)\n",
       "      (bn3): BatchNorm3d(1024, eps=1e-05, momentum=0.1, affine=True, track_running_stats=True)\n",
       "      (relu): ReLU(inplace=True)\n",
       "    )\n",
       "  )\n",
       "  (block4): Sequential(\n",
       "    (0): Bottleneck(\n",
       "      (conv1): Conv3d(1024, 512, kernel_size=(1, 1, 1), stride=(1, 1, 1), bias=False)\n",
       "      (bn1): BatchNorm3d(512, eps=1e-05, momentum=0.1, affine=True, track_running_stats=True)\n",
       "      (conv2): Conv3d(512, 512, kernel_size=(3, 3, 3), stride=(2, 2, 2), padding=(1, 1, 1), bias=False)\n",
       "      (bn2): BatchNorm3d(512, eps=1e-05, momentum=0.1, affine=True, track_running_stats=True)\n",
       "      (conv3): Conv3d(512, 2048, kernel_size=(1, 1, 1), stride=(1, 1, 1), bias=False)\n",
       "      (bn3): BatchNorm3d(2048, eps=1e-05, momentum=0.1, affine=True, track_running_stats=True)\n",
       "      (relu): ReLU(inplace=True)\n",
       "      (downsample): Sequential(\n",
       "        (0): Conv3d(1024, 2048, kernel_size=(1, 1, 1), stride=(2, 2, 2), bias=False)\n",
       "        (1): BatchNorm3d(2048, eps=1e-05, momentum=0.1, affine=True, track_running_stats=True)\n",
       "      )\n",
       "    )\n",
       "    (1): Bottleneck(\n",
       "      (conv1): Conv3d(2048, 512, kernel_size=(1, 1, 1), stride=(1, 1, 1), bias=False)\n",
       "      (bn1): BatchNorm3d(512, eps=1e-05, momentum=0.1, affine=True, track_running_stats=True)\n",
       "      (conv2): Conv3d(512, 512, kernel_size=(3, 3, 3), stride=(1, 1, 1), padding=(1, 1, 1), bias=False)\n",
       "      (bn2): BatchNorm3d(512, eps=1e-05, momentum=0.1, affine=True, track_running_stats=True)\n",
       "      (conv3): Conv3d(512, 2048, kernel_size=(1, 1, 1), stride=(1, 1, 1), bias=False)\n",
       "      (bn3): BatchNorm3d(2048, eps=1e-05, momentum=0.1, affine=True, track_running_stats=True)\n",
       "      (relu): ReLU(inplace=True)\n",
       "    )\n",
       "  )\n",
       "  (avgpool): AdaptiveAvgPool3d(output_size=(1, 1, 1))\n",
       "  (fc): Linear(in_features=2048, out_features=5, bias=True)\n",
       ")"
      ]
     },
     "execution_count": 5,
     "metadata": {},
     "output_type": "execute_result"
    }
   ],
   "source": [
    "device = torch.device('cuda' if torch.cuda.is_available() else 'cpu')\n",
    "print(f'Device: {device}')\n",
    "model = ResNet(Bottleneck, [2, 2, 2, 2], [64, 128, 256, 512], train_set.in_channels, out_dim=train_set.depth)\n",
    "model.to(device)"
   ]
  },
  {
   "cell_type": "code",
   "execution_count": 6,
   "id": "cbdf9c18",
   "metadata": {
    "scrolled": false
   },
   "outputs": [
    {
     "name": "stdout",
     "output_type": "stream",
     "text": [
      "[128, 7, 5, 5, 5]\n"
     ]
    },
    {
     "data": {
      "text/plain": [
       "==========================================================================================\n",
       "Layer (type:depth-idx)                   Output Shape              Param #\n",
       "==========================================================================================\n",
       "ResNet                                   [128, 5]                  --\n",
       "├─Conv3d: 1-1                            [128, 64, 3, 3, 3]        153,664\n",
       "├─BatchNorm3d: 1-2                       [128, 64, 3, 3, 3]        128\n",
       "├─ReLU: 1-3                              [128, 64, 3, 3, 3]        --\n",
       "├─MaxPool3d: 1-4                         [128, 64, 2, 2, 2]        --\n",
       "├─Sequential: 1-5                        [128, 256, 2, 2, 2]       --\n",
       "│    └─Bottleneck: 2-1                   [128, 256, 2, 2, 2]       --\n",
       "│    │    └─Conv3d: 3-1                  [128, 64, 2, 2, 2]        4,096\n",
       "│    │    └─BatchNorm3d: 3-2             [128, 64, 2, 2, 2]        128\n",
       "│    │    └─ReLU: 3-3                    [128, 64, 2, 2, 2]        --\n",
       "│    │    └─Conv3d: 3-4                  [128, 64, 2, 2, 2]        110,592\n",
       "│    │    └─BatchNorm3d: 3-5             [128, 64, 2, 2, 2]        128\n",
       "│    │    └─ReLU: 3-6                    [128, 64, 2, 2, 2]        --\n",
       "│    │    └─Conv3d: 3-7                  [128, 256, 2, 2, 2]       16,384\n",
       "│    │    └─BatchNorm3d: 3-8             [128, 256, 2, 2, 2]       512\n",
       "│    │    └─Sequential: 3-9              [128, 256, 2, 2, 2]       16,896\n",
       "│    │    └─ReLU: 3-10                   [128, 256, 2, 2, 2]       --\n",
       "│    └─Bottleneck: 2-2                   [128, 256, 2, 2, 2]       --\n",
       "│    │    └─Conv3d: 3-11                 [128, 64, 2, 2, 2]        16,384\n",
       "│    │    └─BatchNorm3d: 3-12            [128, 64, 2, 2, 2]        128\n",
       "│    │    └─ReLU: 3-13                   [128, 64, 2, 2, 2]        --\n",
       "│    │    └─Conv3d: 3-14                 [128, 64, 2, 2, 2]        110,592\n",
       "│    │    └─BatchNorm3d: 3-15            [128, 64, 2, 2, 2]        128\n",
       "│    │    └─ReLU: 3-16                   [128, 64, 2, 2, 2]        --\n",
       "│    │    └─Conv3d: 3-17                 [128, 256, 2, 2, 2]       16,384\n",
       "│    │    └─BatchNorm3d: 3-18            [128, 256, 2, 2, 2]       512\n",
       "│    │    └─ReLU: 3-19                   [128, 256, 2, 2, 2]       --\n",
       "├─Sequential: 1-6                        [128, 512, 1, 1, 1]       --\n",
       "│    └─Bottleneck: 2-3                   [128, 512, 1, 1, 1]       --\n",
       "│    │    └─Conv3d: 3-20                 [128, 128, 2, 2, 2]       32,768\n",
       "│    │    └─BatchNorm3d: 3-21            [128, 128, 2, 2, 2]       256\n",
       "│    │    └─ReLU: 3-22                   [128, 128, 2, 2, 2]       --\n",
       "│    │    └─Conv3d: 3-23                 [128, 128, 1, 1, 1]       442,368\n",
       "│    │    └─BatchNorm3d: 3-24            [128, 128, 1, 1, 1]       256\n",
       "│    │    └─ReLU: 3-25                   [128, 128, 1, 1, 1]       --\n",
       "│    │    └─Conv3d: 3-26                 [128, 512, 1, 1, 1]       65,536\n",
       "│    │    └─BatchNorm3d: 3-27            [128, 512, 1, 1, 1]       1,024\n",
       "│    │    └─Sequential: 3-28             [128, 512, 1, 1, 1]       132,096\n",
       "│    │    └─ReLU: 3-29                   [128, 512, 1, 1, 1]       --\n",
       "│    └─Bottleneck: 2-4                   [128, 512, 1, 1, 1]       --\n",
       "│    │    └─Conv3d: 3-30                 [128, 128, 1, 1, 1]       65,536\n",
       "│    │    └─BatchNorm3d: 3-31            [128, 128, 1, 1, 1]       256\n",
       "│    │    └─ReLU: 3-32                   [128, 128, 1, 1, 1]       --\n",
       "│    │    └─Conv3d: 3-33                 [128, 128, 1, 1, 1]       442,368\n",
       "│    │    └─BatchNorm3d: 3-34            [128, 128, 1, 1, 1]       256\n",
       "│    │    └─ReLU: 3-35                   [128, 128, 1, 1, 1]       --\n",
       "│    │    └─Conv3d: 3-36                 [128, 512, 1, 1, 1]       65,536\n",
       "│    │    └─BatchNorm3d: 3-37            [128, 512, 1, 1, 1]       1,024\n",
       "│    │    └─ReLU: 3-38                   [128, 512, 1, 1, 1]       --\n",
       "├─Sequential: 1-7                        [128, 1024, 1, 1, 1]      --\n",
       "│    └─Bottleneck: 2-5                   [128, 1024, 1, 1, 1]      --\n",
       "│    │    └─Conv3d: 3-39                 [128, 256, 1, 1, 1]       131,072\n",
       "│    │    └─BatchNorm3d: 3-40            [128, 256, 1, 1, 1]       512\n",
       "│    │    └─ReLU: 3-41                   [128, 256, 1, 1, 1]       --\n",
       "│    │    └─Conv3d: 3-42                 [128, 256, 1, 1, 1]       1,769,472\n",
       "│    │    └─BatchNorm3d: 3-43            [128, 256, 1, 1, 1]       512\n",
       "│    │    └─ReLU: 3-44                   [128, 256, 1, 1, 1]       --\n",
       "│    │    └─Conv3d: 3-45                 [128, 1024, 1, 1, 1]      262,144\n",
       "│    │    └─BatchNorm3d: 3-46            [128, 1024, 1, 1, 1]      2,048\n",
       "│    │    └─Sequential: 3-47             [128, 1024, 1, 1, 1]      526,336\n",
       "│    │    └─ReLU: 3-48                   [128, 1024, 1, 1, 1]      --\n",
       "│    └─Bottleneck: 2-6                   [128, 1024, 1, 1, 1]      --\n",
       "│    │    └─Conv3d: 3-49                 [128, 256, 1, 1, 1]       262,144\n",
       "│    │    └─BatchNorm3d: 3-50            [128, 256, 1, 1, 1]       512\n",
       "│    │    └─ReLU: 3-51                   [128, 256, 1, 1, 1]       --\n",
       "│    │    └─Conv3d: 3-52                 [128, 256, 1, 1, 1]       1,769,472\n",
       "│    │    └─BatchNorm3d: 3-53            [128, 256, 1, 1, 1]       512\n",
       "│    │    └─ReLU: 3-54                   [128, 256, 1, 1, 1]       --\n",
       "│    │    └─Conv3d: 3-55                 [128, 1024, 1, 1, 1]      262,144\n",
       "│    │    └─BatchNorm3d: 3-56            [128, 1024, 1, 1, 1]      2,048\n",
       "│    │    └─ReLU: 3-57                   [128, 1024, 1, 1, 1]      --\n",
       "├─Sequential: 1-8                        [128, 2048, 1, 1, 1]      --\n",
       "│    └─Bottleneck: 2-7                   [128, 2048, 1, 1, 1]      --\n",
       "│    │    └─Conv3d: 3-58                 [128, 512, 1, 1, 1]       524,288\n",
       "│    │    └─BatchNorm3d: 3-59            [128, 512, 1, 1, 1]       1,024\n",
       "│    │    └─ReLU: 3-60                   [128, 512, 1, 1, 1]       --\n",
       "│    │    └─Conv3d: 3-61                 [128, 512, 1, 1, 1]       7,077,888\n",
       "│    │    └─BatchNorm3d: 3-62            [128, 512, 1, 1, 1]       1,024\n",
       "│    │    └─ReLU: 3-63                   [128, 512, 1, 1, 1]       --\n",
       "│    │    └─Conv3d: 3-64                 [128, 2048, 1, 1, 1]      1,048,576\n",
       "│    │    └─BatchNorm3d: 3-65            [128, 2048, 1, 1, 1]      4,096\n",
       "│    │    └─Sequential: 3-66             [128, 2048, 1, 1, 1]      2,101,248\n",
       "│    │    └─ReLU: 3-67                   [128, 2048, 1, 1, 1]      --\n",
       "│    └─Bottleneck: 2-8                   [128, 2048, 1, 1, 1]      --\n",
       "│    │    └─Conv3d: 3-68                 [128, 512, 1, 1, 1]       1,048,576\n",
       "│    │    └─BatchNorm3d: 3-69            [128, 512, 1, 1, 1]       1,024\n",
       "│    │    └─ReLU: 3-70                   [128, 512, 1, 1, 1]       --\n",
       "│    │    └─Conv3d: 3-71                 [128, 512, 1, 1, 1]       7,077,888\n",
       "│    │    └─BatchNorm3d: 3-72            [128, 512, 1, 1, 1]       1,024\n",
       "│    │    └─ReLU: 3-73                   [128, 512, 1, 1, 1]       --\n",
       "│    │    └─Conv3d: 3-74                 [128, 2048, 1, 1, 1]      1,048,576\n",
       "│    │    └─BatchNorm3d: 3-75            [128, 2048, 1, 1, 1]      4,096\n",
       "│    │    └─ReLU: 3-76                   [128, 2048, 1, 1, 1]      --\n",
       "├─AdaptiveAvgPool3d: 1-9                 [128, 2048, 1, 1, 1]      --\n",
       "├─Linear: 1-10                           [128, 5]                  10,245\n",
       "==========================================================================================\n",
       "Total params: 26,634,437\n",
       "Trainable params: 26,634,437\n",
       "Non-trainable params: 0\n",
       "Total mult-adds (G): 4.21\n",
       "==========================================================================================\n",
       "Input size (MB): 0.45\n",
       "Forward/backward pass size (MB): 51.52\n",
       "Params size (MB): 106.54\n",
       "Estimated Total Size (MB): 158.50\n",
       "=========================================================================================="
      ]
     },
     "execution_count": 6,
     "metadata": {},
     "output_type": "execute_result"
    }
   ],
   "source": [
    "from torchinfo import summary\n",
    "x, y = train_set[0]\n",
    "input_size = [\n",
    "    train_loader.batch_size,\n",
    "    train_set.in_channels,\n",
    "    train_set.depth,\n",
    "    train_set.height,\n",
    "    train_set.width\n",
    "]\n",
    "print(input_size)\n",
    "summary(model, input_size=input_size)"
   ]
  },
  {
   "cell_type": "code",
   "execution_count": 7,
   "id": "a1bc663a",
   "metadata": {},
   "outputs": [],
   "source": [
    "optimizer = optim.Adam(model.parameters(), lr=LEARNING_RATE)\n",
    "criterion = nn.MSELoss()"
   ]
  },
  {
   "cell_type": "code",
   "execution_count": 8,
   "id": "7305f1eb",
   "metadata": {},
   "outputs": [
    {
     "name": "stdout",
     "output_type": "stream",
     "text": [
      "Epoch: 0, TrainLoss: 0.0376, Elapsed Time: 5697.16\n"
     ]
    },
    {
     "ename": "KeyboardInterrupt",
     "evalue": "",
     "output_type": "error",
     "traceback": [
      "\u001b[1;31m---------------------------------------------------------------------------\u001b[0m",
      "\u001b[1;31mKeyboardInterrupt\u001b[0m                         Traceback (most recent call last)",
      "Input \u001b[1;32mIn [8]\u001b[0m, in \u001b[0;36m<cell line: 4>\u001b[1;34m()\u001b[0m\n\u001b[0;32m     17\u001b[0m     \u001b[38;5;66;03m# model parameter update\u001b[39;00m\n\u001b[0;32m     18\u001b[0m     optimizer\u001b[38;5;241m.\u001b[39mstep()\n\u001b[1;32m---> 19\u001b[0m     train_loss\u001b[38;5;241m.\u001b[39mappend(\u001b[43mloss\u001b[49m\u001b[38;5;241;43m.\u001b[39;49m\u001b[43mitem\u001b[49m\u001b[43m(\u001b[49m\u001b[43m)\u001b[49m)\n\u001b[0;32m     21\u001b[0m train_loss \u001b[38;5;241m=\u001b[39m \u001b[38;5;28msum\u001b[39m(train_loss)\u001b[38;5;241m/\u001b[39m\u001b[38;5;28mlen\u001b[39m(train_loss)\n\u001b[0;32m     22\u001b[0m train_loss_list\u001b[38;5;241m.\u001b[39mappend(train_loss)\n",
      "\u001b[1;31mKeyboardInterrupt\u001b[0m: "
     ]
    }
   ],
   "source": [
    "os.makedirs(MODEL_DIR, exist_ok=True)\n",
    "\n",
    "train_loss_list = []\n",
    "for epoch in range(EPOCH_NUM):\n",
    "    model.train()\n",
    "    train_loss = []\n",
    "    s = time.time()\n",
    "    for x, y in train_loader:\n",
    "        x = x.to(device)\n",
    "        y = y.to(device)\n",
    "        optimizer.zero_grad()\n",
    "        y_hat = model(x)\n",
    "        # CrossEntropy 계산\n",
    "        loss = criterion(y_hat, y)\n",
    "        # loss -> layer1 까지 Chain rule에 의해 gradient 계산\n",
    "        loss.backward()\n",
    "        # model parameter update\n",
    "        optimizer.step()\n",
    "        train_loss.append(loss.item())\n",
    "    \n",
    "    train_loss = sum(train_loss)/len(train_loss)\n",
    "    train_loss_list.append(train_loss)\n",
    "    print(f\"Epoch: {epoch}, TrainLoss: {train_loss:.4f}, Elapsed Time: {time.time()-s:.2f}\")\n",
    "    \n",
    "    torch.save(model.state_dict(), os.path.join(MODEL_DIR, f'epoch_{epoch:02d}.pt'))"
   ]
  }
 ],
 "metadata": {
  "kernelspec": {
   "display_name": "netcdf",
   "language": "python",
   "name": "netcdf"
  },
  "language_info": {
   "codemirror_mode": {
    "name": "ipython",
    "version": 3
   },
   "file_extension": ".py",
   "mimetype": "text/x-python",
   "name": "python",
   "nbconvert_exporter": "python",
   "pygments_lexer": "ipython3",
   "version": "3.8.10"
  }
 },
 "nbformat": 4,
 "nbformat_minor": 5
}
