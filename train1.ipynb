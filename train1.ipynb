{
 "cells": [
  {
   "cell_type": "code",
   "execution_count": 1,
   "id": "22a7e735",
   "metadata": {},
   "outputs": [],
   "source": [
    "import torch\n",
    "import torch.nn as nn\n",
    "import torch.optim as optim\n",
    "import torch.utils.data as data\n",
    "\n",
    "import time\n",
    "import matplotlib.pyplot as plt\n",
    "import os\n",
    "\n",
    "from dataset import EarthMantleDataset\n",
    "from dataset import read_cdf\n",
    "\n",
    "from resnet import ResNet\n",
    "from resnet import Bottleneck\n",
    "from resnet import BasicBlock"
   ]
  },
  {
   "cell_type": "code",
   "execution_count": 2,
   "id": "07b4b4b3",
   "metadata": {},
   "outputs": [],
   "source": [
    "LEARNING_RATE = 0.0001\n",
    "EPOCH_NUM = 16\n",
    "MODEL_DIR = 'D:/EarthMantleConvection/models/version_01'"
   ]
  },
  {
   "cell_type": "code",
   "execution_count": 3,
   "id": "49796811",
   "metadata": {},
   "outputs": [],
   "source": [
    "file_path = 'D:/EarthMantleConvection/mantle01/spherical001.nc'\n",
    "x_volume, y_volume, volume_size = read_cdf(file_path, 5, 5, 5, './scalers')\n",
    "train_set = EarthMantleDataset(x_volume, y_volume, volume_size)\n",
    "train_loader = data.DataLoader(dataset=train_set, batch_size=1024, num_workers=2, shuffle=True)"
   ]
  },
  {
   "cell_type": "code",
   "execution_count": 4,
   "id": "1747b2a3",
   "metadata": {
    "scrolled": true
   },
   "outputs": [
    {
     "name": "stdout",
     "output_type": "stream",
     "text": [
      "<dataset.EarthMantleDataset object at 0x0000025DAB2006A0>\n",
      "13024800\n",
      "7\n",
      "5\n",
      "1024\n"
     ]
    }
   ],
   "source": [
    "print(train_set)\n",
    "print(len(train_set))\n",
    "print(train_set.in_channels)\n",
    "print(train_set.depth)\n",
    "print(train_loader.batch_size)"
   ]
  },
  {
   "cell_type": "code",
   "execution_count": 5,
   "id": "b9cd7d36",
   "metadata": {
    "scrolled": false
   },
   "outputs": [
    {
     "name": "stdout",
     "output_type": "stream",
     "text": [
      "Device: cuda\n"
     ]
    },
    {
     "data": {
      "text/plain": [
       "ResNet(\n",
       "  (conv1): Conv3d(7, 16, kernel_size=(7, 7, 7), stride=(2, 2, 2), padding=(3, 3, 3), bias=False)\n",
       "  (bn1): BatchNorm3d(16, eps=1e-05, momentum=0.1, affine=True, track_running_stats=True)\n",
       "  (relu): ReLU(inplace=True)\n",
       "  (maxpool): MaxPool3d(kernel_size=3, stride=2, padding=1, dilation=1, ceil_mode=False)\n",
       "  (block1): Sequential(\n",
       "    (0): Bottleneck(\n",
       "      (conv1): Conv3d(16, 16, kernel_size=(1, 1, 1), stride=(1, 1, 1), bias=False)\n",
       "      (bn1): BatchNorm3d(16, eps=1e-05, momentum=0.1, affine=True, track_running_stats=True)\n",
       "      (conv2): Conv3d(16, 16, kernel_size=(3, 3, 3), stride=(1, 1, 1), padding=(1, 1, 1), bias=False)\n",
       "      (bn2): BatchNorm3d(16, eps=1e-05, momentum=0.1, affine=True, track_running_stats=True)\n",
       "      (conv3): Conv3d(16, 64, kernel_size=(1, 1, 1), stride=(1, 1, 1), bias=False)\n",
       "      (bn3): BatchNorm3d(64, eps=1e-05, momentum=0.1, affine=True, track_running_stats=True)\n",
       "      (relu): ReLU(inplace=True)\n",
       "      (downsample): Sequential(\n",
       "        (0): Conv3d(16, 64, kernel_size=(1, 1, 1), stride=(1, 1, 1), bias=False)\n",
       "        (1): BatchNorm3d(64, eps=1e-05, momentum=0.1, affine=True, track_running_stats=True)\n",
       "      )\n",
       "    )\n",
       "  )\n",
       "  (block2): Sequential(\n",
       "    (0): Bottleneck(\n",
       "      (conv1): Conv3d(64, 32, kernel_size=(1, 1, 1), stride=(1, 1, 1), bias=False)\n",
       "      (bn1): BatchNorm3d(32, eps=1e-05, momentum=0.1, affine=True, track_running_stats=True)\n",
       "      (conv2): Conv3d(32, 32, kernel_size=(3, 3, 3), stride=(2, 2, 2), padding=(1, 1, 1), bias=False)\n",
       "      (bn2): BatchNorm3d(32, eps=1e-05, momentum=0.1, affine=True, track_running_stats=True)\n",
       "      (conv3): Conv3d(32, 128, kernel_size=(1, 1, 1), stride=(1, 1, 1), bias=False)\n",
       "      (bn3): BatchNorm3d(128, eps=1e-05, momentum=0.1, affine=True, track_running_stats=True)\n",
       "      (relu): ReLU(inplace=True)\n",
       "      (downsample): Sequential(\n",
       "        (0): Conv3d(64, 128, kernel_size=(1, 1, 1), stride=(2, 2, 2), bias=False)\n",
       "        (1): BatchNorm3d(128, eps=1e-05, momentum=0.1, affine=True, track_running_stats=True)\n",
       "      )\n",
       "    )\n",
       "  )\n",
       "  (block3): Sequential(\n",
       "    (0): Bottleneck(\n",
       "      (conv1): Conv3d(128, 64, kernel_size=(1, 1, 1), stride=(1, 1, 1), bias=False)\n",
       "      (bn1): BatchNorm3d(64, eps=1e-05, momentum=0.1, affine=True, track_running_stats=True)\n",
       "      (conv2): Conv3d(64, 64, kernel_size=(3, 3, 3), stride=(2, 2, 2), padding=(1, 1, 1), bias=False)\n",
       "      (bn2): BatchNorm3d(64, eps=1e-05, momentum=0.1, affine=True, track_running_stats=True)\n",
       "      (conv3): Conv3d(64, 256, kernel_size=(1, 1, 1), stride=(1, 1, 1), bias=False)\n",
       "      (bn3): BatchNorm3d(256, eps=1e-05, momentum=0.1, affine=True, track_running_stats=True)\n",
       "      (relu): ReLU(inplace=True)\n",
       "      (downsample): Sequential(\n",
       "        (0): Conv3d(128, 256, kernel_size=(1, 1, 1), stride=(2, 2, 2), bias=False)\n",
       "        (1): BatchNorm3d(256, eps=1e-05, momentum=0.1, affine=True, track_running_stats=True)\n",
       "      )\n",
       "    )\n",
       "  )\n",
       "  (block4): Sequential(\n",
       "    (0): Bottleneck(\n",
       "      (conv1): Conv3d(256, 128, kernel_size=(1, 1, 1), stride=(1, 1, 1), bias=False)\n",
       "      (bn1): BatchNorm3d(128, eps=1e-05, momentum=0.1, affine=True, track_running_stats=True)\n",
       "      (conv2): Conv3d(128, 128, kernel_size=(3, 3, 3), stride=(2, 2, 2), padding=(1, 1, 1), bias=False)\n",
       "      (bn2): BatchNorm3d(128, eps=1e-05, momentum=0.1, affine=True, track_running_stats=True)\n",
       "      (conv3): Conv3d(128, 512, kernel_size=(1, 1, 1), stride=(1, 1, 1), bias=False)\n",
       "      (bn3): BatchNorm3d(512, eps=1e-05, momentum=0.1, affine=True, track_running_stats=True)\n",
       "      (relu): ReLU(inplace=True)\n",
       "      (downsample): Sequential(\n",
       "        (0): Conv3d(256, 512, kernel_size=(1, 1, 1), stride=(2, 2, 2), bias=False)\n",
       "        (1): BatchNorm3d(512, eps=1e-05, momentum=0.1, affine=True, track_running_stats=True)\n",
       "      )\n",
       "    )\n",
       "  )\n",
       "  (avgpool): AdaptiveAvgPool3d(output_size=(1, 1, 1))\n",
       "  (fc): Linear(in_features=512, out_features=5, bias=True)\n",
       ")"
      ]
     },
     "execution_count": 5,
     "metadata": {},
     "output_type": "execute_result"
    }
   ],
   "source": [
    "device = torch.device('cuda' if torch.cuda.is_available() else 'cpu')\n",
    "print(f'Device: {device}')\n",
    "model = ResNet(Bottleneck, [1, 1, 1, 1], [16, 32, 64, 128], train_set.in_channels, out_dim=train_set.depth)\n",
    "model.to(device)"
   ]
  },
  {
   "cell_type": "code",
   "execution_count": 6,
   "id": "721273aa",
   "metadata": {
    "scrolled": false
   },
   "outputs": [
    {
     "name": "stdout",
     "output_type": "stream",
     "text": [
      "[1024, 7, 5, 5, 5]\n"
     ]
    },
    {
     "data": {
      "text/plain": [
       "==========================================================================================\n",
       "Layer (type:depth-idx)                   Output Shape              Param #\n",
       "==========================================================================================\n",
       "ResNet                                   [1024, 5]                 --\n",
       "├─Conv3d: 1-1                            [1024, 16, 3, 3, 3]       38,416\n",
       "├─BatchNorm3d: 1-2                       [1024, 16, 3, 3, 3]       32\n",
       "├─ReLU: 1-3                              [1024, 16, 3, 3, 3]       --\n",
       "├─MaxPool3d: 1-4                         [1024, 16, 2, 2, 2]       --\n",
       "├─Sequential: 1-5                        [1024, 64, 2, 2, 2]       --\n",
       "│    └─Bottleneck: 2-1                   [1024, 64, 2, 2, 2]       --\n",
       "│    │    └─Conv3d: 3-1                  [1024, 16, 2, 2, 2]       256\n",
       "│    │    └─BatchNorm3d: 3-2             [1024, 16, 2, 2, 2]       32\n",
       "│    │    └─ReLU: 3-3                    [1024, 16, 2, 2, 2]       --\n",
       "│    │    └─Conv3d: 3-4                  [1024, 16, 2, 2, 2]       6,912\n",
       "│    │    └─BatchNorm3d: 3-5             [1024, 16, 2, 2, 2]       32\n",
       "│    │    └─ReLU: 3-6                    [1024, 16, 2, 2, 2]       --\n",
       "│    │    └─Conv3d: 3-7                  [1024, 64, 2, 2, 2]       1,024\n",
       "│    │    └─BatchNorm3d: 3-8             [1024, 64, 2, 2, 2]       128\n",
       "│    │    └─Sequential: 3-9              [1024, 64, 2, 2, 2]       1,152\n",
       "│    │    └─ReLU: 3-10                   [1024, 64, 2, 2, 2]       --\n",
       "├─Sequential: 1-6                        [1024, 128, 1, 1, 1]      --\n",
       "│    └─Bottleneck: 2-2                   [1024, 128, 1, 1, 1]      --\n",
       "│    │    └─Conv3d: 3-11                 [1024, 32, 2, 2, 2]       2,048\n",
       "│    │    └─BatchNorm3d: 3-12            [1024, 32, 2, 2, 2]       64\n",
       "│    │    └─ReLU: 3-13                   [1024, 32, 2, 2, 2]       --\n",
       "│    │    └─Conv3d: 3-14                 [1024, 32, 1, 1, 1]       27,648\n",
       "│    │    └─BatchNorm3d: 3-15            [1024, 32, 1, 1, 1]       64\n",
       "│    │    └─ReLU: 3-16                   [1024, 32, 1, 1, 1]       --\n",
       "│    │    └─Conv3d: 3-17                 [1024, 128, 1, 1, 1]      4,096\n",
       "│    │    └─BatchNorm3d: 3-18            [1024, 128, 1, 1, 1]      256\n",
       "│    │    └─Sequential: 3-19             [1024, 128, 1, 1, 1]      8,448\n",
       "│    │    └─ReLU: 3-20                   [1024, 128, 1, 1, 1]      --\n",
       "├─Sequential: 1-7                        [1024, 256, 1, 1, 1]      --\n",
       "│    └─Bottleneck: 2-3                   [1024, 256, 1, 1, 1]      --\n",
       "│    │    └─Conv3d: 3-21                 [1024, 64, 1, 1, 1]       8,192\n",
       "│    │    └─BatchNorm3d: 3-22            [1024, 64, 1, 1, 1]       128\n",
       "│    │    └─ReLU: 3-23                   [1024, 64, 1, 1, 1]       --\n",
       "│    │    └─Conv3d: 3-24                 [1024, 64, 1, 1, 1]       110,592\n",
       "│    │    └─BatchNorm3d: 3-25            [1024, 64, 1, 1, 1]       128\n",
       "│    │    └─ReLU: 3-26                   [1024, 64, 1, 1, 1]       --\n",
       "│    │    └─Conv3d: 3-27                 [1024, 256, 1, 1, 1]      16,384\n",
       "│    │    └─BatchNorm3d: 3-28            [1024, 256, 1, 1, 1]      512\n",
       "│    │    └─Sequential: 3-29             [1024, 256, 1, 1, 1]      33,280\n",
       "│    │    └─ReLU: 3-30                   [1024, 256, 1, 1, 1]      --\n",
       "├─Sequential: 1-8                        [1024, 512, 1, 1, 1]      --\n",
       "│    └─Bottleneck: 2-4                   [1024, 512, 1, 1, 1]      --\n",
       "│    │    └─Conv3d: 3-31                 [1024, 128, 1, 1, 1]      32,768\n",
       "│    │    └─BatchNorm3d: 3-32            [1024, 128, 1, 1, 1]      256\n",
       "│    │    └─ReLU: 3-33                   [1024, 128, 1, 1, 1]      --\n",
       "│    │    └─Conv3d: 3-34                 [1024, 128, 1, 1, 1]      442,368\n",
       "│    │    └─BatchNorm3d: 3-35            [1024, 128, 1, 1, 1]      256\n",
       "│    │    └─ReLU: 3-36                   [1024, 128, 1, 1, 1]      --\n",
       "│    │    └─Conv3d: 3-37                 [1024, 512, 1, 1, 1]      65,536\n",
       "│    │    └─BatchNorm3d: 3-38            [1024, 512, 1, 1, 1]      1,024\n",
       "│    │    └─Sequential: 3-39             [1024, 512, 1, 1, 1]      132,096\n",
       "│    │    └─ReLU: 3-40                   [1024, 512, 1, 1, 1]      --\n",
       "├─AdaptiveAvgPool3d: 1-9                 [1024, 512, 1, 1, 1]      --\n",
       "├─Linear: 1-10                           [1024, 5]                 2,565\n",
       "==========================================================================================\n",
       "Total params: 936,693\n",
       "Trainable params: 936,693\n",
       "Non-trainable params: 0\n",
       "Total mult-adds (G): 2.06\n",
       "==========================================================================================\n",
       "Input size (MB): 3.58\n",
       "Forward/backward pass size (MB): 68.46\n",
       "Params size (MB): 3.75\n",
       "Estimated Total Size (MB): 75.79\n",
       "=========================================================================================="
      ]
     },
     "execution_count": 6,
     "metadata": {},
     "output_type": "execute_result"
    }
   ],
   "source": [
    "from torchinfo import summary\n",
    "x, y, idx = train_set[0]\n",
    "input_size = [\n",
    "    train_loader.batch_size,\n",
    "    train_set.in_channels,\n",
    "    train_set.depth,\n",
    "    train_set.height,\n",
    "    train_set.width\n",
    "]\n",
    "print(input_size)\n",
    "summary(model, input_size=input_size)"
   ]
  },
  {
   "cell_type": "code",
   "execution_count": 7,
   "id": "280a22c6",
   "metadata": {},
   "outputs": [],
   "source": [
    "optimizer = optim.Adam(model.parameters(), lr=LEARNING_RATE)\n",
    "criterion = nn.MSELoss()"
   ]
  },
  {
   "cell_type": "code",
   "execution_count": null,
   "id": "2abd04aa",
   "metadata": {},
   "outputs": [
    {
     "name": "stdout",
     "output_type": "stream",
     "text": [
      "Epoch: 0(13024256/13024800), loss: 0.0121, Step Time: 0.03\n",
      "Epoch: 0, TrainLoss: 0.0432, Elapsed Time: 460.41\n",
      "Epoch: 1(13024256/13024800), loss: 0.0070, Step Time: 0.03\n",
      "Epoch: 1, TrainLoss: 0.0106, Elapsed Time: 463.18\n",
      "Epoch: 2(13024256/13024800), loss: 0.0104, Step Time: 0.02\n",
      "Epoch: 2, TrainLoss: 0.0069, Elapsed Time: 476.80\n",
      "Epoch: 3(13024256/13024800), loss: 0.0057, Step Time: 0.02\n",
      "Epoch: 3, TrainLoss: 0.0052, Elapsed Time: 474.28\n",
      "Epoch: 4(13024256/13024800), loss: 0.0045, Step Time: 0.03\n",
      "Epoch: 4, TrainLoss: 0.0043, Elapsed Time: 459.88\n",
      "Epoch: 5(13024256/13024800), loss: 0.0026, Step Time: 0.03\n",
      "Epoch: 5, TrainLoss: 0.0038, Elapsed Time: 462.38\n",
      "Epoch: 6(13024256/13024800), loss: 0.0044, Step Time: 0.02\n",
      "Epoch: 6, TrainLoss: 0.0034, Elapsed Time: 428.86\n",
      "Epoch: 7(13024256/13024800), loss: 0.0038, Step Time: 0.02\n",
      "Epoch: 7, TrainLoss: 0.0031, Elapsed Time: 433.55\n",
      "Epoch: 8(13024256/13024800), loss: 0.0022, Step Time: 0.02\n",
      "Epoch: 8, TrainLoss: 0.0029, Elapsed Time: 429.83\n",
      "Epoch: 9(616448/13024800), loss: 0.0021, Step Time: 0.03"
     ]
    }
   ],
   "source": [
    "os.makedirs(MODEL_DIR, exist_ok=True)\n",
    "\n",
    "n_data = len(train_set)\n",
    "train_loss_list = []\n",
    "for epoch in range(EPOCH_NUM):\n",
    "    model.train()\n",
    "    train_loss = []\n",
    "    s = time.time()\n",
    "    i = 0\n",
    "    for x, y, idx in train_loader:\n",
    "        ss = time.time()\n",
    "        x = x.to(device)\n",
    "        y = y.to(device)\n",
    "        optimizer.zero_grad()\n",
    "        y_hat = model(x)\n",
    "        # CrossEntropy 계산\n",
    "        loss = criterion(y_hat, y)\n",
    "        # loss -> layer1 까지 Chain rule에 의해 gradient 계산\n",
    "        loss.backward()\n",
    "        # model parameter update\n",
    "        optimizer.step()\n",
    "        train_loss.append(loss.item())\n",
    "        print(f'\\rEpoch: {epoch}({i}/{n_data}), loss: {loss.item():.4f}, Step Time: {time.time()-ss:.2f}', end='')\n",
    "        i += train_loader.batch_size\n",
    "    print()\n",
    "    train_loss = sum(train_loss)/len(train_loss)\n",
    "    train_loss_list.append(train_loss)\n",
    "    print(f\"Epoch: {epoch}, TrainLoss: {train_loss:.4f}, Elapsed Time: {time.time()-s:.2f}\")\n",
    "    \n",
    "    torch.save(model.state_dict(), os.path.join(MODEL_DIR, f'epoch_{epoch:02d}.pt'))"
   ]
  }
 ],
 "metadata": {
  "kernelspec": {
   "display_name": "netcdf",
   "language": "python",
   "name": "netcdf"
  },
  "language_info": {
   "codemirror_mode": {
    "name": "ipython",
    "version": 3
   },
   "file_extension": ".py",
   "mimetype": "text/x-python",
   "name": "python",
   "nbconvert_exporter": "python",
   "pygments_lexer": "ipython3",
   "version": "3.8.10"
  }
 },
 "nbformat": 4,
 "nbformat_minor": 5
}
