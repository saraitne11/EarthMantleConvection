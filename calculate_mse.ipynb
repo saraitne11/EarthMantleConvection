{
 "cells": [
  {
   "cell_type": "code",
   "execution_count": 1,
   "id": "0d099dba",
   "metadata": {},
   "outputs": [],
   "source": [
    "import torch\n",
    "import numpy as np\n",
    "import os\n",
    "\n",
    "from dataset import read_cdf"
   ]
  },
  {
   "cell_type": "code",
   "execution_count": 2,
   "id": "edd0d335",
   "metadata": {
    "scrolled": true
   },
   "outputs": [
    {
     "name": "stdout",
     "output_type": "stream",
     "text": [
      "(1, 205, 184, 364)\n"
     ]
    }
   ],
   "source": [
    "file_path = 'D:/EarthMantleConvection/mantle01/spherical005.nc'\n",
    "x_volume, y_volume, volume_size = read_cdf(file_path, 5, 5, 5, './scalers')\n",
    "print(y_volume.shape)"
   ]
  },
  {
   "cell_type": "code",
   "execution_count": 3,
   "id": "049d1fc4",
   "metadata": {},
   "outputs": [],
   "source": [
    "d = y_volume.shape[1] - volume_size[0] + 1\n",
    "h = y_volume.shape[2] - volume_size[1] + 1\n",
    "w = y_volume.shape[3] - volume_size[2] + 1\n",
    "do = d // 2\n",
    "ho = h // 2\n",
    "wo = w // 2"
   ]
  },
  {
   "cell_type": "code",
   "execution_count": 4,
   "id": "b9197e67",
   "metadata": {},
   "outputs": [
    {
     "data": {
      "text/plain": [
       "(201, 180, 360)"
      ]
     },
     "execution_count": 4,
     "metadata": {},
     "output_type": "execute_result"
    }
   ],
   "source": [
    "y_volume = y_volume[0, do:-do, ho:-ho, wo:-wo]\n",
    "y_volume.shape"
   ]
  },
  {
   "cell_type": "code",
   "execution_count": 5,
   "id": "7100fe6b",
   "metadata": {},
   "outputs": [],
   "source": [
    "target_dir = 'D:/EarthMantleConvection/results/version_01'\n",
    "files = os.listdir(target_dir)\n",
    "files.sort()"
   ]
  },
  {
   "cell_type": "code",
   "execution_count": 12,
   "id": "90e10e17",
   "metadata": {},
   "outputs": [
    {
     "name": "stdout",
     "output_type": "stream",
     "text": [
      "1.0966686379171726\n"
     ]
    }
   ],
   "source": [
    "rand_res = np.load('D:/EarthMantleConvection/results/Res_spherical005_version_01_RandomInit.npy')\n",
    "mse = (np.square(rand_res - y_volume)).mean()\n",
    "print(mse)"
   ]
  },
  {
   "cell_type": "code",
   "execution_count": 10,
   "id": "baf53479",
   "metadata": {},
   "outputs": [
    {
     "name": "stdout",
     "output_type": "stream",
     "text": [
      "Weight File: Res_spherical005_version_01_epoch_00.npy, MSE: 0.10361\n",
      "Weight File: Res_spherical005_version_01_epoch_01.npy, MSE: 0.07152\n",
      "Weight File: Res_spherical005_version_01_epoch_02.npy, MSE: 0.05486\n",
      "Weight File: Res_spherical005_version_01_epoch_03.npy, MSE: 0.06061\n",
      "Weight File: Res_spherical005_version_01_epoch_04.npy, MSE: 0.05106\n",
      "Weight File: Res_spherical005_version_01_epoch_05.npy, MSE: 0.04647\n",
      "Weight File: Res_spherical005_version_01_epoch_06.npy, MSE: 0.04563\n",
      "Weight File: Res_spherical005_version_01_epoch_07.npy, MSE: 0.04812\n",
      "Weight File: Res_spherical005_version_01_epoch_08.npy, MSE: 0.04775\n",
      "Weight File: Res_spherical005_version_01_epoch_09.npy, MSE: 0.04312\n",
      "Weight File: Res_spherical005_version_01_epoch_10.npy, MSE: 0.05055\n",
      "Weight File: Res_spherical005_version_01_epoch_11.npy, MSE: 0.04438\n",
      "Weight File: Res_spherical005_version_01_epoch_12.npy, MSE: 0.04512\n",
      "Weight File: Res_spherical005_version_01_epoch_13.npy, MSE: 0.04529\n",
      "Weight File: Res_spherical005_version_01_epoch_14.npy, MSE: 0.04496\n",
      "Weight File: Res_spherical005_version_01_epoch_15.npy, MSE: 0.04407\n"
     ]
    }
   ],
   "source": [
    "# loss = torch.nn.MSELoss()\n",
    "for f in files:\n",
    "    res = np.load(os.path.join(target_dir, f))\n",
    "    # mse = loss(torch.Tensor(res), torch.Tensor(y_volume))\n",
    "    mse = (np.square(res - y_volume)).mean()\n",
    "    print(f'Weight File: {f}, MSE: {mse:0.5f}')"
   ]
  }
 ],
 "metadata": {
  "kernelspec": {
   "display_name": "netcdf",
   "language": "python",
   "name": "netcdf"
  },
  "language_info": {
   "codemirror_mode": {
    "name": "ipython",
    "version": 3
   },
   "file_extension": ".py",
   "mimetype": "text/x-python",
   "name": "python",
   "nbconvert_exporter": "python",
   "pygments_lexer": "ipython3",
   "version": "3.8.10"
  }
 },
 "nbformat": 4,
 "nbformat_minor": 5
}
